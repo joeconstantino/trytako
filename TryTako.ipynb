{
 "cells": [
  {
   "cell_type": "code",
   "execution_count": 124,
   "id": "5a560bff",
   "metadata": {},
   "outputs": [],
   "source": [
    "import requests\n",
    "import os\n",
    "import json\n",
    "import pandas as pd\n",
    "\n",
    "load_dotenv()\n",
    "\n",
    "#base URL and the endpoint for authentication\n",
    "base_url = 'https://trytako.com'\n",
    "auth_endpoint = '/auth-token/'\n",
    "\n",
    "# Your credentials (replace with your actual credentials)\n",
    "payload = {\n",
    "    'username': os.getenv(\"TAKO_USERNAME\"),\n",
    "    'password': os.getenv(\"PASSWORD\")\n",
    "}\n",
    "\n",
    "# Send the POST request to get the authentication token\n",
    "response = requests.post(base_url + auth_endpoint, data=payload)\n",
    "token = response.json()['token']"
   ]
  },
  {
   "cell_type": "code",
   "execution_count": 138,
   "id": "e46cf211",
   "metadata": {},
   "outputs": [
    {
     "name": "stdout",
     "output_type": "stream",
     "text": [
      "{\"name\":\"30 Year Fixed Mortgage Average\",\"collection_description\":\"This is the Average 30-Year Fixed Mortgage Rate in the United States reported on a weekly basis.\",\"allowed_aggregations\":[\"3-month-trailing-average\",\"year-over-year\",\"month-over-month\",\"percentage-change-since-start\"]}\n",
      "\n",
      "\n",
      "{\"name\":\"Annual CO2 Emissions\",\"collection_description\":\"This is annual CO2 emissions by fuel source (petroleum, natural gas, coal, all) and sector (commercial, industrial, residential, transportation) for each State in the United States (e.g. Colorado).\",\"allowed_aggregations\":[\"percentage-change-since-start\"]}\n",
      "\n",
      "\n",
      "{\"name\":\"Avg. Interest Rates on US Treasury Securities\",\"collection_description\":\"The Average Interest Rates on U.S. Treasury Securities dataset provides average interest rates on U.S. Treasury securities on a monthly basis. Its primary purpose is to show the average interest rate on a variety of marketable and non-marketable Treasury securities. Marketable securities consist of Treasury Bills, Notes, Bonds, Treasury Inflation-Protected Securities (TIPS), Floating Rate Notes (FRNs), and Federal Financing Bank (FFB) securities. Non-marketable securities consist of Domestic Series, Foreign Series, State and Local Government Series (SLGS), U.S. Savings Securities, and Government Account Series (GAS) securities. Marketable securities are negotiable and transferable and may be sold on the secondary market. Non-marketable securities are not negotiable or transferrable and are not sold on the secondary market. This is a useful dataset for investors and bond holders to compare how interest rates on Treasury securities have changed over time.\",\"allowed_aggregations\":[\"percentage-change-since-start\",\"year-over-year\",\"3-month-trailing-average\"]}\n",
      "\n",
      "\n",
      "{\"name\":\"Big Mac Index\",\"collection_description\":\"The Big Mac Index is published by The Economist as an informal way of measuring the purchasing power parity (PPP) between two currencies.  The big mac index was invented by The Economist in 1986 as a lighthearted guide to whether currencies are at their “correct” level. It is based on the theory of purchasing-power parity (PPP), the notion that in the long run exchange rates should move towards the rate that would equalise the prices of an identical basket of goods and services (in this case, a burger) in any two countries.  In order to create the adjusted index, a Big-Mac-adjusted per-capita GDP is used, which is the GDP in local currency, divided by the exchange rate as determined by Big Macs (that is, the price in local currency divided by the price in the United States). This performs a similar function to purchasing-power parity adjustments, but using only the price of a Big Mac to make the adjustment.\",\"allowed_aggregations\":[\"percentage-change-since-start\",\"year-over-year\"]}\n",
      "\n",
      "\n",
      "{\"name\":\"Central Bank Policy Rates\",\"collection_description\":\"This collection includes daily central bank policy rates sourced from the Bank of International Settlements data.  The central bank policy rate (CBPR) is the rate that is used by central bank to implement or signal its monetary policy stance.   The BIS data presents the targets or, when that is not available, the traded rate for each central bank's main policy instrument. Several central banks implement their monetary policy based on more than one interest rate. For central banks that communicate a target band, the middle of the band is shown unless the central bank has suggested that a different rate be shown. For central banks that changed their main policy instruments during the period covered in the data set, this BIS time series show the sequence of policy instruments used to conduct monetary policy in consecutive periods.\",\"allowed_aggregations\":[\"percentage-change-since-start\",\"year-over-year\",\"month-over-month\",\"3-month-trailing-average\"]}\n",
      "\n",
      "\n",
      "{\"name\":\"Country Age Dependency Ratios\",\"collection_description\":\"The total dependency ratio is defined as the number of children (0 to 14 years old) and older persons (65 years and over) per 100 persons in working age (15 to 64 years old).  The old-age dependency ratio is defined as the number of older persons (65 years or over) per 100 persons in working age (15 to 64 years old). The child dependency ratio is defined as the number of children (0 to 14 years old) per 100 persons in working age (15 to 64 years old). Calculations are based on de facto population in a country, area or region as of 1 July of the indicated year.\",\"allowed_aggregations\":[\"year-over-year\",\"percentage-change-since-start\"]}\n",
      "\n",
      "\n",
      "{\"name\":\"Country Average Annual Hours Worked\",\"collection_description\":\"This collection includes data from the Organisation for Economic Co-operation and Development on the average actual hours worked per worker in OECD countries.  The data is sourced from the OECD's Employment database and includes statistics on the average actual hours worked per worker in a year. The concept used is the total number of hours worked over the year divided by the average number of people in employment. The data are intended for comparisons of trends over time; they are unsuitable for comparisons of the level of average annual hours of work for a given year, because of differences in their sources. Part-time workers are covered as well as full-time workers.  In order to facilitate analysis and comparisons over time, historical data for OECD members have been provided over as long a period as possible, often even before a country became a member of the Organisation.\",\"allowed_aggregations\":[\"percentage-change-since-start\",\"year-over-year\",\"month-over-month\",\"3-month-trailing-average\"]}\n",
      "\n",
      "\n",
      "{\"name\":\"Country Average Wages\",\"collection_description\":\"These are average annual real wages in 2016 US Dollars adjusted for purchasing power parity for several countries.\",\"allowed_aggregations\":[\"percentage-change-since-start\",\"year-over-year\",\"month-over-month\",\"3-month-trailing-average\"]}\n",
      "\n",
      "\n",
      "{\"name\":\"Country Debt Indicators\",\"collection_description\":\"Temporary collection to validate IMF datasets.  Ultimately we may roll them into country economic indicators.\",\"allowed_aggregations\":[\"year-over-year\",\"percentage-change-since-start\"]}\n",
      "\n",
      "\n",
      "{\"name\":\"Country Economic Indicators\",\"collection_description\":\"These are a subset of annual economic indicators for all countries, like annual GDP, annual Agricultural Land Area, and Adjusted Net National Income.\",\"allowed_aggregations\":[\"year-over-year\",\"percentage-change-since-start\"]}\n",
      "\n",
      "\n"
     ]
    }
   ],
   "source": [
    "collections_endpoint= '/api/v1/list_collections/'\n",
    "\n",
    "headers = {\n",
    "    'accept': 'application/json',\n",
    "    'Authorization': 'Token ' + token\n",
    "}\n",
    "\n",
    "collect = requests.get(base_url + collections_endpoint, headers=headers)\n",
    "collect_dict = collect.json()\n",
    "count = 0\n",
    "while count < 10:\n",
    "    print(collect_dict['collections'][count])\n",
    "    print('\\n')\n",
    "    count+=1"
   ]
  },
  {
   "cell_type": "code",
   "execution_count": 49,
   "id": "440abb65",
   "metadata": {},
   "outputs": [
    {
     "data": {
      "text/plain": [
       "{'url': 'https://trytako.com/embed/pzmSnEqYw0V2XvPqL9QN/',\n",
       " 'iframe': '<iframe width=\"100%\" src=\"https://trytako.com/embed/pzmSnEqYw0V2XvPqL9QN/\" scrolling=\"no\" frameborder=\"0\"></iframe><script type=\"text/javascript\">',\n",
       " 'chart_description': 'Country Economic Indicators: Annual GDP - Current USD from 2010-01-01 to 2023-01-01 for Israel - most recent value, from 2023-01-01 is 509901495702.10 delta from 2010-01-01T00:00:00+00:00 to 2023-01-01T00:00:00+00:00 is 271537403404.08 (113.92%), Iran - most recent value, from 2023-01-01 is 401504514718.72 delta from 2010-01-01T00:00:00+00:00 to 2023-01-01T00:00:00+00:00 is -85303102157.98 (-17.52%)Military Metrics: Annual Military Spending - Current from 2010-01-01 to 2023-01-01 for Military Metrics - most recent value, from 2023-01-01 is 27498527856.85 delta from 2010-01-01T00:00:00+00:00 to 2023-01-01T00:00:00+00:00 is 13623316261.15 (98.18%), Military Metrics - most recent value, from 2023-01-01 is 10283084401.75 delta from 2010-01-01T00:00:00+00:00 to 2023-01-01T00:00:00+00:00 is -3278188052.46 (-24.17%) delta from 2010-01-01T00:00:00+00:00 to 2023-01-01T00:00:00+00:00 is -3278188052.46 (-24.17%) -',\n",
       " 'title': 'Israel Military Spending, Iran Military Spending, Israel GDP, Iran GDP',\n",
       " 'source_url': 'https://trytako.com/',\n",
       " 'specificity': '100',\n",
       " 'pub_id': 'pzmSnEqYw0V2XvPqL9QN',\n",
       " 'visualization_type': 'timeseries'}"
      ]
     },
     "execution_count": 49,
     "metadata": {},
     "output_type": "execute_result"
    }
   ],
   "source": [
    "#testing search endpoint\n",
    "search_endpoint = '/api/v1/search/'\n",
    "data = {\n",
    "    \"query\": \"Israel vs Iran military spending and GDP over time\",\n",
    "    \"start_time\": \"2010-01-01\",\n",
    "    \"fast_filter\": False\n",
    "}\n",
    "search = requests.post(base_url + search_endpoint, headers=headers, data=data)\n",
    "search.json()"
   ]
  },
  {
   "cell_type": "code",
   "execution_count": 50,
   "id": "3d6dfeaf",
   "metadata": {},
   "outputs": [
    {
     "data": {
      "text/plain": [
       "{'url': 'https://trytako.com/embed/QlbcRJYIB7lHRZaZVlAo/',\n",
       " 'iframe': '<iframe width=\"100%\" src=\"https://trytako.com/embed/QlbcRJYIB7lHRZaZVlAo/\" scrolling=\"no\" frameborder=\"0\"></iframe><script type=\"text/javascript\">',\n",
       " 'chart_description': 'Military Metrics: Annual Military Spending as a Share of Real GDP from 2014-01-01 to 2023-01-01 for Military Metrics - most recent value, from 2023-01-01 is 3.49 delta from 2014-01-01T00:00:00+00:00 to 2023-01-01T00:00:00+00:00 is -0.23 (-0.06%) delta from 2014-01-01T00:00:00+00:00 to 2023-01-01T00:00:00+00:00 is -0.23 (-0.06%) -',\n",
       " 'title': 'United States Military Spending as Share of GDP',\n",
       " 'source_url': 'https://trytako.com/',\n",
       " 'specificity': '100',\n",
       " 'pub_id': 'QlbcRJYIB7lHRZaZVlAo',\n",
       " 'visualization_type': 'timeseries'}"
      ]
     },
     "execution_count": 50,
     "metadata": {},
     "output_type": "execute_result"
    }
   ],
   "source": [
    "#testing search endpoint\n",
    "data = {\n",
    "    \"query\": \"countries with the highest military spending as a % of their national GDP\",\n",
    "    \"start_time\": \"2010-01-01\",\n",
    "    \"fast_filter\": False\n",
    "}\n",
    "search = requests.post(base_url + search_endpoint, headers=headers, data=data)\n",
    "search.json()"
   ]
  },
  {
   "cell_type": "code",
   "execution_count": 56,
   "id": "9a249fd3",
   "metadata": {},
   "outputs": [],
   "source": [
    "#function for quering vizQL data service\n",
    "def send(query):\n",
    "    url = os.getenv('VDS_URL')\n",
    "    payload = json.dumps({\n",
    "        \"connection\": {\n",
    "            \"tableauServerName\": os.getenv('TABLEAU_DOMAIN'),\n",
    "            \"siteId\": os.getenv('SITE_NAME'),\n",
    "            \"datasource\": os.getenv('DATA_SOURCE')\n",
    "        },\n",
    "        \"query\": query\n",
    "    })\n",
    "\n",
    "    headers = {\n",
    "    'Credential-Key': os.getenv('PAT_NAME'),\n",
    "    'Credential-value': os.getenv('PAT_SECRET'),\n",
    "    'Content-Type': 'application/json'\n",
    "    }\n",
    "    response = requests.request(\"POST\", url, headers=headers, data=payload)\n",
    "\n",
    "    # Check if the request was successful (status code 200)\n",
    "    if response.status_code == 200:\n",
    "        # Print the response data\n",
    "        #print(\"Response Data:\")\n",
    "        #print(response.json())\n",
    "        data = response.json()['data']\n",
    "        # Create a pandas DataFrame from the JSON data\n",
    "        df = pd.DataFrame(data)\n",
    "\n",
    "        # Display the first few rows of the DataFrame\n",
    "        #print(\"Table view of data from the public REST API:\")\n",
    "        #print(df.head())\n",
    "        #print(df.all())\n",
    "        return df\n",
    "        #display(df.head())\n",
    "    else:\n",
    "        print(\"Failed to fetch data from the API. Status code:\", response.status_code)\n",
    "        print(response.text)"
   ]
  },
  {
   "cell_type": "code",
   "execution_count": 127,
   "id": "1e2d2c5e",
   "metadata": {},
   "outputs": [
    {
     "data": {
      "text/html": [
       "<div>\n",
       "<style scoped>\n",
       "    .dataframe tbody tr th:only-of-type {\n",
       "        vertical-align: middle;\n",
       "    }\n",
       "\n",
       "    .dataframe tbody tr th {\n",
       "        vertical-align: top;\n",
       "    }\n",
       "\n",
       "    .dataframe thead th {\n",
       "        text-align: right;\n",
       "    }\n",
       "</style>\n",
       "<table border=\"1\" class=\"dataframe\">\n",
       "  <thead>\n",
       "    <tr style=\"text-align: right;\">\n",
       "      <th></th>\n",
       "      <th>YEAR(Order Date)</th>\n",
       "      <th>SUM(Sales)</th>\n",
       "    </tr>\n",
       "  </thead>\n",
       "  <tbody>\n",
       "    <tr>\n",
       "      <th>0</th>\n",
       "      <td>2021</td>\n",
       "      <td>494040.2121</td>\n",
       "    </tr>\n",
       "    <tr>\n",
       "      <th>1</th>\n",
       "      <td>2022</td>\n",
       "      <td>472993.0310</td>\n",
       "    </tr>\n",
       "    <tr>\n",
       "      <th>2</th>\n",
       "      <td>2023</td>\n",
       "      <td>613933.5800</td>\n",
       "    </tr>\n",
       "    <tr>\n",
       "      <th>3</th>\n",
       "      <td>2024</td>\n",
       "      <td>745567.5312</td>\n",
       "    </tr>\n",
       "  </tbody>\n",
       "</table>\n",
       "</div>"
      ],
      "text/plain": [
       "   YEAR(Order Date)   SUM(Sales)\n",
       "0              2021  494040.2121\n",
       "1              2022  472993.0310\n",
       "2              2023  613933.5800\n",
       "3              2024  745567.5312"
      ]
     },
     "execution_count": 127,
     "metadata": {},
     "output_type": "execute_result"
    }
   ],
   "source": [
    "#simple VDS query for retrieving sum of sales per year\n",
    "vds_payload = {'columns': [{'columnName': 'Order Date', \"function\": \"DATE_YEAR\",\n",
    "            \"sortPriority\":1}, {'columnName': 'Sales', 'function': 'SUM'}]}\n",
    "output = send(vds_payload)\n",
    "output"
   ]
  },
  {
   "cell_type": "code",
   "execution_count": 116,
   "id": "ed16c910",
   "metadata": {},
   "outputs": [
    {
     "name": "stdout",
     "output_type": "stream",
     "text": [
      "[{'records': [{'x': '2021-01-01T00:00:00', 'y': 494040.2121000005}, {'x': '2022-01-01T00:00:00', 'y': 472993.03100000083}, {'x': '2023-01-01T00:00:00', 'y': 613933.5799999994}, {'x': '2024-01-01T00:00:00', 'y': 745567.5311999985}]}]\n"
     ]
    }
   ],
   "source": [
    "series_data = {\n",
    "    \"series\": [\n",
    "        {\n",
    "            \"records\": [\n",
    "                {\n",
    "                    \"x\": pd.to_datetime(row['YEAR(Order Date)']).strftime('%Y-%m-%dT%H:%M:%S'),\n",
    "                    \"y\": row['SUM(Sales)']\n",
    "                }\n",
    "                for _, row in output.iterrows()\n",
    "            ]\n",
    "        }\n",
    "    ]\n",
    "}\n",
    "\n",
    "# Now you can pass 'series_data' through the API\n",
    "print(series_data['series'])\n"
   ]
  },
  {
   "cell_type": "code",
   "execution_count": 135,
   "id": "3e2767d6",
   "metadata": {},
   "outputs": [],
   "source": [
    "def construct_time_series(df, date_col, value_col, date_format='%Y-%m-%dT%H:%M:%S'):\n",
    "    \"\"\"\n",
    "    Converts a DataFrame into a list of dictionaries suitable for the records parameter in the Tako render endpoint\n",
    "\n",
    "    Parameters:\n",
    "    - dataframe (pd.DataFrame): The input DataFrame.\n",
    "    - date_col (str): The name of the column containing date values.\n",
    "    - value_col (str): The name of the column containing numeric values.\n",
    "    - date_format (str): The desired date format (default is ISO 8601).\n",
    "\n",
    "    Returns:\n",
    "    - records_list (list): A list of dictionaries with keys 'x' and 'y'.\n",
    "    \"\"\"\n",
    "    records_list = []\n",
    "    for _, row in output.iterrows():\n",
    "        # Convert the date to datetime object\n",
    "        date_obj = pd.to_datetime(row[date_col])\n",
    "\n",
    "        # Format the date to ISO 8601\n",
    "        iso_date = date_obj.strftime(date_format)\n",
    "\n",
    "        # Build the dictionary\n",
    "        record = { \"x\": iso_date, \"y\": row[value_col]}\n",
    "\n",
    "        # Append to the list\n",
    "        records_list.append(record)\n",
    "\n",
    "    return records_list"
   ]
  },
  {
   "cell_type": "code",
   "execution_count": 136,
   "id": "16a1ae9d",
   "metadata": {},
   "outputs": [
    {
     "data": {
      "text/plain": [
       "[{'x': '2021-01-01T00:00:00', 'y': 494040.2121000005},\n",
       " {'x': '2022-01-01T00:00:00', 'y': 472993.03100000083},\n",
       " {'x': '2023-01-01T00:00:00', 'y': 613933.5799999994},\n",
       " {'x': '2024-01-01T00:00:00', 'y': 745567.5311999985}]"
      ]
     },
     "execution_count": 136,
     "metadata": {},
     "output_type": "execute_result"
    }
   ],
   "source": [
    "#invoke the construct_time_series function for the superstore output dataframe\n",
    "records = construct_time_series(df=output,date_col='YEAR(Order Date)', value_col='SUM(Sales)')\n",
    "records"
   ]
  },
  {
   "cell_type": "code",
   "execution_count": 137,
   "id": "621f95d2",
   "metadata": {},
   "outputs": [
    {
     "data": {
      "text/plain": [
       "{'url': 'https://trytako.com/embed/FAp_qMIkGRv5rZrcWOGX/',\n",
       " 'iframe': '<iframe width=\"100%\" src=\"https://trytako.com/embed/FAp_qMIkGRv5rZrcWOGX/\" scrolling=\"no\" frameborder=\"0\"></iframe><script type=\"text/javascript\">',\n",
       " 'chart_description': 'Custom chart',\n",
       " 'title': 'Superstore Sales per Year',\n",
       " 'source_url': 'https://trytako.com/',\n",
       " 'specificity': '100',\n",
       " 'pub_id': 'FAp_qMIkGRv5rZrcWOGX'}"
      ]
     },
     "execution_count": 137,
     "metadata": {},
     "output_type": "execute_result"
    }
   ],
   "source": [
    "#testing tako render endpoint with superstore data queried through VDS\n",
    "render_endpoint = '/api/v1/render_data/'\n",
    "data = {\n",
    "    \"title\": \"Superstore Sales per Year\",\n",
    "    \"subtitle\": \"\",\n",
    "    \"series\": [\n",
    "        {\n",
    "            \"records\": records,\n",
    "            \"label\": \"test label\",\n",
    "            \"y_units\": \"custom units\",\n",
    "            \"viz_type\": \"line\"\n",
    "        },\n",
    "    ],\n",
    "    \"save_preview_image\": False\n",
    "}\n",
    "\n",
    "requests.post(base_url + render_endpoint, headers=headers, json=data).json()"
   ]
  }
 ],
 "metadata": {
  "kernelspec": {
   "display_name": "Python 3",
   "language": "python",
   "name": "python3"
  },
  "language_info": {
   "codemirror_mode": {
    "name": "ipython",
    "version": 3
   },
   "file_extension": ".py",
   "mimetype": "text/x-python",
   "name": "python",
   "nbconvert_exporter": "python",
   "pygments_lexer": "ipython3",
   "version": "3.9.6"
  }
 },
 "nbformat": 4,
 "nbformat_minor": 5
}
